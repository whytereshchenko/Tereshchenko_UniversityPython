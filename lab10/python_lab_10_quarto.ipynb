{
 "cells": [
  {
   "cell_type": "markdown",
   "metadata": {},
   "source": [
    "---\n",
    "title: \"Лабораторна робота №10. Рядки. Методи рядків і списків. Винятки. Частина ІІ\"\n",
    "description:\n",
    "  Документ зроблено в [Quarto](https://quarto.org/)\n",
    "author: \"&copy; [<span style='color: blue;'>Daniil Tereshchenko </span>](https://github.com/whytereshchenko), 2023\"\n",
    "date: \"11.20.2023\"\n",
    "lang: ukr\n",
    "format:\n",
    "  html:\n",
    "    code-fold: true\n",
    "    toc: true # меню\n",
    "    toc_float: # спливаюче меню  \n",
    "      collapsed: true # fdnj\n",
    "      number_sections: true\n",
    "jupyter: python3\n",
    "---"
   ]
  },
  {
   "cell_type": "markdown",
   "metadata": {},
   "source": [
    "__Мета:__ _навчитися обробляти рядки за допомогою спеціальних функцій і методів._"
   ]
  },
  {
   "cell_type": "markdown",
   "metadata": {},
   "source": [
    "::: callout-note\n",
    "## Примітка\n",
    "У лабораторній роботі використано матеріали [python institute.](https://pythoninstitute.org/pcep)\n",
    ":::"
   ]
  },
  {
   "cell_type": "markdown",
   "metadata": {
    "tags": []
   },
   "source": [
    "## Що ви будете вміти?\n",
    "\n",
    "* обробляти рядки за допомогою спеціальних функцій і методів Python;\n",
    "* сумісно обробляти рядки і списки;\n",
    "* обробляти винятки"
   ]
  },
  {
   "cell_type": "markdown",
   "metadata": {
    "tags": []
   },
   "source": [
    "## Основні методи та функції для обробки рядків"
   ]
  },
  {
   "cell_type": "markdown",
   "metadata": {},
   "source": [
    "### Основні методи для обробки рядків"
   ]
  },
  {
   "cell_type": "markdown",
   "metadata": {},
   "source": [
    "* `capitalize()` – замінює всі мали букви на великі;\n",
    "* `center()` – центрує рядок всередині поля відомої довжини;\n",
    "* `count()` – рахує кількість входжень даного символу в рядку;\n",
    "* `join()` – з'єднує всі елементи кортежу/списку в один рядок;\n",
    "* `lower()` – перетворює всі літери рядка на малі;\n",
    "* `lstrip()` – видаляє білі символи з початку рядка;\n",
    "* `replace()` – замінює задану підрядок іншим;\n",
    "* `rfind()` – знаходить підрядок, пошук починається з кінця рядка;\n",
    "* `rstrip()` – видаляє білі символи з кінця рядка;\n",
    "* `split()` – розбиває рядок на підрядки з використанням заданого роздільника;\n",
    "* `strip()` – видаляє білі символи з початку і кінця рядка;\n",
    "* `swapcase()` – змінює регістр літер на протилежний (малі на великі і навпаки);\n",
    "* `title()` – робить першу літеру в кожному слові великою;\n",
    "* `upper()` – перетворює всі літери рядка на великі.\n"
   ]
  },
  {
   "cell_type": "markdown",
   "metadata": {},
   "source": [
    "### Аналіз вмісту рядків "
   ]
  },
  {
   "cell_type": "markdown",
   "metadata": {},
   "source": [
    "Содержимое строки можна визначити за допомогою наступних методів (вони повертають логічні значення):\n",
    "\n",
    "* `endswith()` - закінчується рядок заданою підстрокою?\n",
    "* `isalnum()` - складається рядок лише з букв і цифр?\n",
    "* `isalpha()` - складається рядок лише з букв?\n",
    "* `islower()` - складається рядок лише з малих літер?\n",
    "* `isspace()` - складається рядок лише з пробільних символів?\n",
    "* `isupper()` - складається рядок лише з великих літер?\n",
    "* `startswith()` - починається рядок з даної підстроки?"
   ]
  },
  {
   "cell_type": "markdown",
   "metadata": {},
   "source": [
    "::: callout-important\n",
    "## Важливо\n",
    "\n",
    "Не всі методи можуть змінювати рядок \"на місці\", декотрі створюють копію.\n",
    ":::"
   ]
  },
  {
   "cell_type": "markdown",
   "metadata": {},
   "source": [
    "### Приклад 1\n",
    "\n",
    "Ви знаєте, що таке паліндром?\n",
    "\n",
    "Це слово, яке виглядає однаково під час читання вперед і назад. Наприклад, \"козак\" - це паліндром, а \"лояльний\" - ні.\n",
    "\n",
    "Ваше завдання - написати програму, яка:\n",
    "\n",
    "* запитує у користувача текст;\n",
    "* перевіряє, чи є введений текст паліндромом, і друкує результат.\n",
    "\n",
    "Примітка:\n",
    "\n",
    "* припустимо, що порожній рядок не є паліндромом;\n",
    "* великі та малі літери обробляються як однакові;\n",
    "* прогалини не враховуються під час перевірки - розглядайте їх як неіснуючі;\n",
    "* правильних рішень більш ніж кілька – спробуйте знайти більше одного.\n",
    "\n",
    "Протестуйте свій код, використовуючи надані нами дані."
   ]
  },
  {
   "cell_type": "markdown",
   "metadata": {},
   "source": [
    "Приклад вводу:  \n",
    "\n",
    "`А роза упала на лапу Азора`  \n",
    "\n",
    "Приклад виводу:  \n",
    "\n",
    "`It's a palindrome`"
   ]
  },
  {
   "cell_type": "code",
   "execution_count": 2,
   "metadata": {},
   "outputs": [
    {
     "name": "stdin",
     "output_type": "stream",
     "text": [
      "Введіть текст: А роза упала на лапу Азора\n"
     ]
    },
    {
     "name": "stdout",
     "output_type": "stream",
     "text": [
      "It's a palindrom\n"
     ]
    },
    {
     "name": "stdin",
     "output_type": "stream",
     "text": [
      "Введіть текст: А роза не падала лапу\n"
     ]
    },
    {
     "name": "stdout",
     "output_type": "stream",
     "text": [
      "It's not a palindrom\n"
     ]
    }
   ],
   "source": [
    "def ispalindrom(text):\n",
    "    text = text.replace(\" \", \"\").lower()\n",
    "    if text == text[::-1]:\n",
    "        print(\"It's a palindrom\")\n",
    "    else:\n",
    "        print(\"It's not a palindrom\")\n",
    "\n",
    "text = input(\"Введіть текст:\")\n",
    "ispalindrom(text)\n",
    "\n",
    "text = input(\"Введіть текст:\")\n",
    "ispalindrom(text)"
   ]
  },
  {
   "cell_type": "markdown",
   "metadata": {},
   "source": [
    "### Приклад 2\n",
    "\n",
    "Анаграма -- це нове слово, сформоване шляхом перестановки букв слова, використовуючи всі оригінальні букви рівно один раз. Наприклад, слова \"Актёр\" та \"тёрка\" є анаграмами, а \"я є\" і \"ви є\" -- ні.\n",
    "\n",
    "Ваше завдання -- написати програму, яка:\n",
    "\n",
    "* запитує у користувача два окремі тексти;\n",
    "* перевіряє, чи введені тексти є анаграмами, і виводить результат.\n",
    "\n",
    "Примітка:\n",
    "\n",
    "* припустимо, що два порожні рядки не є анаграмами;\n",
    "* великі та малі літери обробляються як однакові;\n",
    "* прогалини не враховуються під час перевірки - трактуйте їх як неіснуючі.\n",
    "\n",
    "Протестуйте свій код, використовуючи надані нами дані.\n",
    "\n",
    "Приклад вводу: \n",
    "\n",
    "`Listen`  \n",
    "`Silent`\n",
    "\n",
    "Приклад виводу:  \n",
    "\n",
    "`Anagrams`\n",
    "\n",
    "Приклад вводу:  \n",
    "\n",
    "`modern`  \n",
    "`norman`  \n",
    "\n",
    "Приклад вивода:  \n",
    "\n",
    "`Not anagrams`"
   ]
  },
  {
   "cell_type": "code",
   "execution_count": 16,
   "metadata": {},
   "outputs": [
    {
     "name": "stdin",
     "output_type": "stream",
     "text": [
      "Введіть перше слово: Listen\n",
      "Введіть друге слово: Silent\n"
     ]
    },
    {
     "name": "stdout",
     "output_type": "stream",
     "text": [
      "Анаграми\n"
     ]
    }
   ],
   "source": [
    "# Пеервірка на анаграму\n",
    "\n",
    "text1 = input(\"Введіть перше слово:\")\n",
    "text2 = input(\"Введіть друге слово:\")\n",
    "\n",
    "text1 = list(text1.replace(\" \", \"\").lower())\n",
    "text2 = list(text2.replace(\" \", \"\").lower())\n",
    "\n",
    "if sorted(text1) == sorted(text2):\n",
    "    print(\"Анаграми\")\n",
    "else:\n",
    "    print(\"Не анаграми\")"
   ]
  },
  {
   "cell_type": "markdown",
   "metadata": {},
   "source": [
    "### Приклад 3\n",
    "Дехто каже, що Цифра життя – це цифра, обчислена з використанням чийогось дня народження. Все просто – потрібно просто скласти всі цифри дати. Якщо результат містить більше однієї цифри, Ви повинні повторювати додавання, доки не отримаєте одну цифру. Наприклад:\n",
    "\n",
    "1 January 2017 = 2017 01 01\n",
    "2 + 0 + 1 + 7 + 0 + 1 + 0 + 1 = 12\n",
    "1 + 2 = 3\n",
    "3 - цифра, яку ми шукали та знайшли.\n",
    "\n",
    "Ваше завдання - написати програму, яка:\n",
    "\n",
    "запитує користувача про його/її день народження (у форматі РРРГММДД, або РРРРДДММ, або ММДДРРРР - фактично порядок цифр не має значення);\n",
    "виводить цифру життя для дати.\n",
    "Протестуйте свій код, використовуючи надані нами дані.  \n",
    "\n",
    "Тестові дані:\n",
    "\n",
    "`19991229`  \n",
    "`6`  \n",
    "\n",
    "Приклад вивода: \n",
    "\n",
    "`20000101`\n",
    "`4`\n"
   ]
  },
  {
   "cell_type": "code",
   "execution_count": 1,
   "metadata": {},
   "outputs": [
    {
     "name": "stdin",
     "output_type": "stream",
     "text": [
      "Введіть дату народження у форматі YYYYMMDD: 1223222\n"
     ]
    },
    {
     "name": "stdout",
     "output_type": "stream",
     "text": [
      "5\n"
     ]
    }
   ],
   "source": [
    "# ПЕРШИЙ варіант\n",
    "\n",
    "# Обчислює число \"життя\": суму цифр повної дати народження\n",
    "date = input(\"Введіть дату народження у форматі YYYYMMDD:\")\n",
    "\n",
    "while True:\n",
    "    sum = 0\n",
    "    for simbol in date:\n",
    "        sum += int(simbol)\n",
    "\n",
    "    date = str(sum)\n",
    "\n",
    "    if len(date) == 1:\n",
    "        break\n",
    "\n",
    "print(sum)"
   ]
  },
  {
   "cell_type": "code",
   "execution_count": null,
   "metadata": {},
   "outputs": [],
   "source": [
    "# ДРУГИЙ варіант\n",
    "\n",
    "# def calculate_life_number(date):\n",
    "#     # видалення всіх символів, окрім цифрр\n",
    "#     digits = ''.join(filter(str.isdigit, date))\n",
    "\n",
    "#     # вычисление суммы цифр\n",
    "#     digit_sum = sum(int(d) for d in digits)\n",
    "\n",
    "#     # повторне додавання, якщо результат містить більше однієї цифри\n",
    "#     while digit_sum > 9:\n",
    "#         digit_sum = sum(int(d) for d in str(digit_sum))\n",
    "\n",
    "#     return digit_sum\n",
    "\n",
    "\n",
    "# # Запит дати народження користувача\n",
    "# date = input(\"Введіть дату народження у форматі РРРРММДД, РРРРДДММ или ММДДРРРР: \")\n",
    "\n",
    "# # Обчислення цифри життя та виведення результату\n",
    "# life_number = calculate_life_number(date)\n",
    "# print(\"Цифра життя для дати {}: {}\".format(date, life_number))"
   ]
  },
  {
   "cell_type": "markdown",
   "metadata": {},
   "source": [
    "### Завдання 1"
   ]
  },
  {
   "cell_type": "markdown",
   "metadata": {},
   "source": [
    "Давайте зіграємо у гру. Ми дамо Вам два рядки: один - слово (наприклад, \"dog\"), а другий - комбінація будь-яких символів.\n",
    "\n",
    "Ваше завдання – написати програму, яка відповість на наступне запитання: символи, що становлять перший рядок, приховані всередині другого рядка?\n",
    "\n",
    "Наприклад:\n",
    "\n",
    "якщо другий рядок заданий як \"vcxzxduybfdsobywuefgas\", відповідь `Yes`;\n",
    "якщо другий рядок \"vcxzxdcybfdstbywuefsas\", відповідь `No` (бо немає букв \"d\", \"o\" або \"g\" у цьому порядку).\n",
    "\n",
    "Підказка:\n",
    "\n",
    "Ви повинні використовувати варіанти з двома аргументами функцій `find()` всередині коду;\n",
    "не турбуйтеся про чутливість до регістру.\n",
    "Протестуйте свій код, використовуючи надані нами дані."
   ]
  },
  {
   "cell_type": "code",
   "execution_count": 2,
   "metadata": {},
   "outputs": [
    {
     "data": {
      "text/plain": [
       "('Yes', 'No')"
      ]
     },
     "execution_count": 2,
     "metadata": {},
     "output_type": "execute_result"
    }
   ],
   "source": [
    "def is_hidden(word, string):\n",
    "    current_index = 0\n",
    "\n",
    "    for char in word:\n",
    "        current_index = string.find(char, current_index)\n",
    "        if current_index == -1:\n",
    "            return 'No'\n",
    "        current_index += 1\n",
    "\n",
    "    return 'Yes'\n",
    "\n",
    "test_string1 = \"vcxzxduybfdsobywuefgas\"\n",
    "test_string2 = \"vcxzxdcybfdstbywuefsas\"\n",
    "word = \"dog\"\n",
    "\n",
    "result1 = is_hidden(word, test_string1)\n",
    "result2 = is_hidden(word, test_string2)\n",
    "\n",
    "result1, result2"
   ]
  },
  {
   "cell_type": "markdown",
   "metadata": {},
   "source": [
    "## Обробка винятків "
   ]
  },
  {
   "cell_type": "markdown",
   "metadata": {},
   "source": [
    "::: callout-note\n",
    "## Примітка\n",
    "Для виконня цієї частини лабораторної роботи потрібно опрацювати матеріал лекці 7 та 11.\n",
    ":::"
   ]
  },
  {
   "cell_type": "markdown",
   "metadata": {},
   "source": [
    "### Приклад 4\n",
    "\n",
    "Можна \"ловити\" і обробляти винятки в Python за допомогою `try-except` блоку. Отже, якщо у є підозра, що будь-який конкретний шматок коду може викликати виняток, можна написати код, який коректно оброблятиме його і не припинить виконання програми:"
   ]
  },
  {
   "cell_type": "code",
   "execution_count": 13,
   "metadata": {},
   "outputs": [
    {
     "name": "stdin",
     "output_type": "stream",
     "text": [
      " Введіть ціле число:  a\n"
     ]
    },
    {
     "name": "stdout",
     "output_type": "stream",
     "text": [
      "Введене значення не є допустимим числом. Повторіть спробу...\n"
     ]
    },
    {
     "name": "stdin",
     "output_type": "stream",
     "text": [
      " Введіть ціле число:  12\n"
     ]
    },
    {
     "name": "stdout",
     "output_type": "stream",
     "text": [
      "6.0\n"
     ]
    }
   ],
   "source": [
    "while True:\n",
    "    try: \n",
    "        number = int(input(\" Введіть ціле число: \")) \n",
    "        print(number/2) \n",
    "        break \n",
    "    except: \n",
    "        print(\"Введене значення не є допустимим числом. Повторіть спробу...\")"
   ]
  },
  {
   "cell_type": "markdown",
   "metadata": {},
   "source": [
    "### Завдання 2\n",
    "\n",
    "Модифікувати код з __Прикладу 3__ таким чином, щоби виняток, який виникає при введені, оброблявся і забезпечував функціонування програми."
   ]
  },
  {
   "cell_type": "code",
   "execution_count": 4,
   "metadata": {},
   "outputs": [
    {
     "name": "stdin",
     "output_type": "stream",
     "text": [
      "Введіть дату народження у форматі РРРРММДД, РРРРДДММ або ММДДРРРР:  20040205\n"
     ]
    },
    {
     "name": "stdout",
     "output_type": "stream",
     "text": [
      "Цифра життя для дати 20040205: 4\n"
     ]
    }
   ],
   "source": [
    "def calculate_life_number(date):\n",
    "    try:\n",
    "        digits = ''.join(filter(str.isdigit, date))\n",
    "\n",
    "        if len(digits) != 8:\n",
    "            raise ValueError(\"Дата має містити рівно 8 цифр.\")\n",
    "\n",
    "        digit_sum = sum(int(d) for d in digits)\n",
    "        \n",
    "        while digit_sum > 9:\n",
    "            digit_sum = sum(int(d) for d in str(digit_sum))\n",
    "\n",
    "        return digit_sum\n",
    "    except ValueError as e:\n",
    "        return str(e)\n",
    "\n",
    "# Запит дати народження користувача\n",
    "try:\n",
    "    date = input(\"Введіть дату народження у форматі РРРРММДД, РРРРДДММ або ММДДРРРР: \")\n",
    "    life_number = calculate_life_number(date)\n",
    "    print(\"Цифра життя для дати {}: {}\".format(date, life_number))\n",
    "except Exception as e:\n",
    "    print(\"Сталася помилка: {}\".format(e))"
   ]
  },
  {
   "cell_type": "markdown",
   "metadata": {},
   "source": [
    "### Завдання 3\n",
    "\n",
    "Ваше завдання -- написати функцію, здатну набувати цілочисельних значень і перевіряти, чи знаходяться вони в зазначеному діапазоні.\n",
    "\n",
    "Функція повинна:\n",
    "\n",
    "* прийняти три аргументи: запит на введення даних, допустимі верхній та нижній межі;\n",
    "* якщо користувач вводить рядок, який не є цілим числом, функція повинна видати повідомлення `Error: wrong input і попросити користувача ввести значення знову`;\n",
    "* якщо користувач вводить число, яке виходить за межі вказаного діапазону, функція повинна видати повідомлення Error: the value is not within permitted range (`min..max`) і попросити користувача знову ввести значення;\n",
    "* якщо вхідне значення допустиме, поверніть його як результат."
   ]
  },
  {
   "cell_type": "code",
   "execution_count": 5,
   "metadata": {},
   "outputs": [
    {
     "name": "stdin",
     "output_type": "stream",
     "text": [
      "Введіть число від 1 до 10:  11\n"
     ]
    },
    {
     "name": "stdout",
     "output_type": "stream",
     "text": [
      "Error: the value is not within permitted range (1..10)\n"
     ]
    },
    {
     "name": "stdin",
     "output_type": "stream",
     "text": [
      "Введіть число від 1 до 10:  100\n"
     ]
    },
    {
     "name": "stdout",
     "output_type": "stream",
     "text": [
      "Error: the value is not within permitted range (1..10)\n"
     ]
    },
    {
     "name": "stdin",
     "output_type": "stream",
     "text": [
      "Введіть число від 1 до 10:  1\n"
     ]
    },
    {
     "name": "stdout",
     "output_type": "stream",
     "text": [
      "Введене значення: 1\n"
     ]
    }
   ],
   "source": [
    "def get_integer_in_range(prompt, min_value, max_value):\n",
    "    while True:\n",
    "        try:\n",
    "            value = int(input(prompt))\n",
    "            if min_value <= value <= max_value:\n",
    "                return value\n",
    "            else:\n",
    "                print(f\"Error: the value is not within permitted range ({min_value}..{max_value})\")\n",
    "        except ValueError:\n",
    "            print(\"Error: wrong input\")\n",
    "\n",
    "min_val = 1\n",
    "max_val = 10\n",
    "result = get_integer_in_range(\"Введіть число від 1 до 10: \", min_val, max_val)\n",
    "print(f\"Введене значення: {result}\")"
   ]
  },
  {
   "cell_type": "markdown",
   "metadata": {},
   "source": [
    "### Завдання для самостіної роботи\n",
    "\n",
    "1. Виконати приклади 1-4 і завдання 1-3, наведені вище у цьому зошиті.\n",
    "\n",
    "1. Створити файл __lab_10_StudentLastName.py__ з написаним кодом. \n",
    "\n",
    "1. Закомітити файл у локальний репозиторій.\n",
    "\n",
    "1. Відправити (\"запушити\") поточну версію Git-проєкта у віддалений репозиторій на GitHub.\n",
    "\n",
    "1. Звіт має складатися з файлу (за основу взяти __цей Python-зошит__)  `lab_10_StudentLastName.ipynb`. (Можливі якісь додакові файли)"
   ]
  },
  {
   "attachments": {
    "561bf64b-5e62-4785-a4e4-a150d01a3bdb.png": {
     "image/png": "[encoded data removed]"
    },
    "794773e2-251c-49d0-8baa-9ba9eb9cf1fb.png": {
     "image/png": "[encoded data removed]"
    }
   },
   "cell_type": "markdown",
   "metadata": {},
   "source": [
    "### Контрольні запитання\n",
    "\n",
    "1. Який очікуваний вивід наступного коду? `(Let's try do this We failed We're done)`\n",
    "\n",
    "![](attachment:561bf64b-5e62-4785-a4e4-a150d01a3bdb.png)\n",
    "\n",
    "\n",
    "\n",
    "1. Який очікуваний результат наступного коду? (zero)\n",
    "\n",
    "![](attachment:794773e2-251c-49d0-8baa-9ba9eb9cf1fb.png)"
   ]
  },
  {
   "cell_type": "markdown",
   "metadata": {},
   "source": [
    "### References"
   ]
  },
  {
   "cell_type": "markdown",
   "metadata": {},
   "source": [
    "1. [Anaconda (Python distribution)](https://uk.wikipedia.org/wiki/Anaconda_(Python_distribution))  \n",
    "1. [Conda](https://conda.io/en/latest/)  \n",
    "1. [Pro Git Book](https://git-scm.com/book/en/v2)  \n",
    "1. [OpenEDG Python Institute](https://pythoninstitute.org/)  \n",
    "1. [Cisco. Networking Academy](https://www.netacad.com/)  \n",
    "1. [Научно-издательская система Quarto](https://data-visualization-blog.netlify.app/posts/quarto/)\n",
    "1. [The Python Standard Library](https://docs.python.org/3/library/index.html)\n",
    "1. [Callout Blocks. Markdown Syntax](https://quarto.org/docs/authoring/callouts.html)  \n",
    "1. [5. Built-in Exceptions](https://docs.python.org/3.6/library/exceptions.html)"
   ]
  }
 ],
 "metadata": {
  "kernelspec": {
   "display_name": "Python 3 (ipykernel)",
   "language": "python",
   "name": "python3"
  },
  "language_info": {
   "codemirror_mode": {
    "name": "ipython",
    "version": 3
   },
   "file_extension": ".py",
   "mimetype": "text/x-python",
   "name": "python",
   "nbconvert_exporter": "python",
   "pygments_lexer": "ipython3",
   "version": "3.9.12"
  }
 },
 "nbformat": 4,
 "nbformat_minor": 4
}
