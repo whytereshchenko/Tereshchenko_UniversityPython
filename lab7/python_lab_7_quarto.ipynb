{
 "cells": [
  {
   "cell_type": "markdown",
   "metadata": {},
   "source": [
    "---\n",
    "title: 'Лабораторна робота №7. Словники, кортежі. Обробка винятків (empty)'\n",
    "description:\n",
    "   Документ зроблено за допомогою [Quarto](https://quarto.org/)\n",
    "author: \"&copy; [<span style='color: blue;'>Daniil Tereshchenko </span>](https://github.com/whytereshchenko), 2023\"\n",
    "date: \"10.29.2023\"\n",
    "lang: ukr\n",
    "format:\n",
    "  html:\n",
    "    code-fold: true\n",
    "    toc: true # меню\n",
    "    toc_float: # спливаюче меню  \n",
    "      collapsed: true # авто\n",
    "      number_sections: true\n",
    "jupyter: python3\n",
    "---"
   ]
  },
  {
   "cell_type": "markdown",
   "metadata": {},
   "source": [
    "__Мета:__ _навчитися працювати зі структурами даних Кортеж та Словник. Навчитись обробляти основні типи винятків_"
   ]
  },
  {
   "cell_type": "markdown",
   "metadata": {},
   "source": [
    "::: callout-note\n",
    "## Примітка\n",
    "Попередньо потрібно опрацювати лекцію 7.\n",
    ":::"
   ]
  },
  {
   "cell_type": "markdown",
   "metadata": {},
   "source": [
    "::: callout-note\n",
    "## Примітка\n",
    "У лабораторній роботі використано матеріали [python institute.](https://pythoninstitute.org/pcep) \n",
    ":::"
   ]
  },
  {
   "cell_type": "markdown",
   "metadata": {
    "tags": []
   },
   "source": [
    "## Що ви будете вміти?\n",
    "* створювати та обробляти кортежі (`tuple`).\n",
    "* створювати і обробляти словники (`dict`).\n",
    "* сумісно викростовувати словники і кортежі\n",
    "* обробляти основні типи винятків."
   ]
  },
  {
   "cell_type": "markdown",
   "metadata": {},
   "source": [
    "## Робота зі словниками"
   ]
  },
  {
   "cell_type": "markdown",
   "metadata": {},
   "source": [
    "### Приклад 1\n",
    "\n",
    "Створіть кортеж, який містить інформацію про результати іспитів з трьох предметів для студента (наприклад, математика, фізика та хімія). Виведіть на екран середній бал та максимальний бал."
   ]
  },
  {
   "cell_type": "code",
   "execution_count": 36,
   "metadata": {},
   "outputs": [
    {
     "name": "stdout",
     "output_type": "stream",
     "text": [
      "Середній бал: 81.66666666666667\n",
      "Максимальний бал: 90\n"
     ]
    }
   ],
   "source": [
    "# results = (80, 75, 90)\n",
    "\n",
    "average_score = sum(results) / len(results)\n",
    "max_score = max(results)\n",
    "\n",
    "print(f\"Середній бал: {average_score}\")\n",
    "print(f\"Максимальний бал: {max_score}\")"
   ]
  },
  {
   "cell_type": "markdown",
   "metadata": {},
   "source": [
    "У цьому коді ми створюємо кортеж `results`, який містить оцінки студента з трьох предметів. Потім ми обчислюємо середній бал, використовуючи вбудовані функції `sum` та `len`, та максимальний бал, використовуючи вбудовану функцію `max`. Нарешті, ми виводимо ці значення на екран за допомогою функції `print`. Водночас ми продемонстрували один з варіантів форматованого виводу."
   ]
  },
  {
   "cell_type": "markdown",
   "metadata": {},
   "source": [
    "### Приклад 2 "
   ]
  },
  {
   "cell_type": "markdown",
   "metadata": {},
   "source": [
    "Створіть програму, яка буде обчислювати площу трикутника за трьома сторонами, які користувач введе з клавіатури. Збережіть введені користувачем значення за допомогою кортежів та виведіть їх на екран."
   ]
  },
  {
   "cell_type": "code",
   "execution_count": 37,
   "metadata": {},
   "outputs": [
    {
     "name": "stdin",
     "output_type": "stream",
     "text": [
      "Введіть довжину першої сторони трикутника:  1\n",
      "Введіть довжину другої сторони трикутника:  2\n",
      "Введіть довжину третьої сторони трикутника:  3\n"
     ]
    },
    {
     "name": "stdout",
     "output_type": "stream",
     "text": [
      "Довжина сторін трикутника: (1.0, 2.0, 3.0)\n",
      "Площа трикутника: 0.0\n"
     ]
    }
   ],
   "source": [
    "a = float(input(\"Введіть довжину першої сторони трикутника: \"))\n",
    "b = float(input(\"Введіть довжину другої сторони трикутника: \"))\n",
    "c = float(input(\"Введіть довжину третьої сторони трикутника: \"))\n",
    "\n",
    "# обчислюємо півпериметр\n",
    "p = (a + b + c) / 2\n",
    "\n",
    "# обчислюємо площу трикутника за формулою Герона\n",
    "area = (p * (p - a) * (p - b) * (p - c)) ** 0.5\n",
    "\n",
    "# зберігаємо введені користувачем значення у кортеж\n",
    "triangle_sides = (a, b, c)\n",
    "\n",
    "# виводимо на екран введені користувачем значення та площу трикутника\n",
    "print(f\"Довжина сторін трикутника: {triangle_sides}\")\n",
    "print(f\"Площа трикутника: {area}\")\n"
   ]
  },
  {
   "cell_type": "markdown",
   "metadata": {},
   "source": [
    "У цьому прикладі ми використовуємо кортеж `triangle_sides`, щоб зберегти довжини трьох сторін трикутника, які введені користувачем з клавіатури. "
   ]
  },
  {
   "cell_type": "markdown",
   "metadata": {},
   "source": [
    "### Приклад 3 "
   ]
  },
  {
   "cell_type": "markdown",
   "metadata": {},
   "source": [
    "Напишіть програму, яка змінює порядок елементів у кортежі. Користувач повинен ввести кортеж, а програма повинна вивести його елементи у зворотному порядку."
   ]
  },
  {
   "cell_type": "code",
   "execution_count": 38,
   "metadata": {},
   "outputs": [
    {
     "name": "stdin",
     "output_type": "stream",
     "text": [
      "Введіть елементи кортежу, розділені комою:  1, 2, 3, 4, 5\n"
     ]
    },
    {
     "name": "stdout",
     "output_type": "stream",
     "text": [
      "Зворотний порядок елементів кортежу: (' 5', ' 4', ' 3', ' 2', '1')\n"
     ]
    }
   ],
   "source": [
    "t = tuple(input(\"Введіть елементи кортежу, розділені комою: \").split(','))\n",
    "\n",
    "# змінюємо порядок елементів у кортежі\n",
    "reversed_t = t[::-1]\n",
    "\n",
    "# виводимо зворотний порядок елементів на екран\n",
    "print(f\"Зворотний порядок елементів кортежу: {reversed_t}\")"
   ]
  },
  {
   "cell_type": "markdown",
   "metadata": {},
   "source": [
    "У цьому прикладі ми використовуємо оператор зрізу `[::]`, щоб змінити порядок елементів у кортежі `t` на зворотний порядок. Потім ми виводимо на екран зворотний порядок елементів у новому кортежі `reversed_t`.\n",
    "\n",
    "Наприклад, якщо користувач введе `\"1,2,3,4,5\"`, програма виведе на екран: \"Зворотний порядок елементів кортежу: `('5', '4', '3', '2', '1')`."
   ]
  },
  {
   "cell_type": "markdown",
   "metadata": {},
   "source": [
    "### Завдання 1"
   ]
  },
  {
   "cell_type": "markdown",
   "metadata": {},
   "source": [
    "Напишіть програму, яка створює кортеж зі списку чисел, а потім виводить на екран всі числа, які менші за задане число `n`. Умова: користувач вводить число `n`, і   щоб створити новий список `result`, який містить всі числа з кортежу, які менші за `n`, реалізувати за допомогою генератора списків."
   ]
  },
  {
   "cell_type": "code",
   "execution_count": 1,
   "metadata": {},
   "outputs": [
    {
     "name": "stdout",
     "output_type": "stream",
     "text": [
      "Введіть число n: 10\n",
      "Числа, які менші за 10 : [1, 5, 8, 3, 4, 7, 2]\n"
     ]
    }
   ],
   "source": [
    "numbers_tuple = (1, 5, 8, 3, 12, 4, 10, 7, 2, 15)\n",
    "\n",
    "n = int(input(\"Введіть число n: \"))\n",
    "\n",
    "result = [num for num in numbers_tuple if num < n]\n",
    "\n",
    "print(\"Числа, які менші за\", n, \":\", result)"
   ]
  },
  {
   "cell_type": "markdown",
   "metadata": {},
   "source": [
    "### Завдання 2\n",
    "Напишіть програму, яка створює кортеж з трьох елементів, які є рядками, та з'єднує їх в один рядок з комою як роздільником. Примітка: з'єднати рядки також можна за допомогою методу `.joint()`"
   ]
  },
  {
   "cell_type": "code",
   "execution_count": 2,
   "metadata": {},
   "outputs": [
    {
     "name": "stdout",
     "output_type": "stream",
     "text": [
      "Hello, World, Python\n"
     ]
    }
   ],
   "source": [
    "strings_tuple = (\"Hello\", \"World\", \"Python\")\n",
    "\n",
    "result_string = \", \".join(strings_tuple)\n",
    "\n",
    "print(result_string)"
   ]
  },
  {
   "cell_type": "markdown",
   "metadata": {},
   "source": [
    "### Завдання 3 "
   ]
  },
  {
   "cell_type": "markdown",
   "metadata": {},
   "source": [
    "Створіть словник, який містить інформацію про книги в бібліотеці. Ключами будуть назви книг, а значеннями - автори, рік видання та кількість сторінок. Виведіть на екран інформацію про книгу, введену користувачем."
   ]
  },
  {
   "cell_type": "code",
   "execution_count": 3,
   "metadata": {},
   "outputs": [
    {
     "name": "stdout",
     "output_type": "stream",
     "text": [
      "Введіть назву книги: 1984\n",
      "Автор: Джордж Оруелл\n",
      "Рік видання: 1949\n",
      "Кількість сторінок: 328\n"
     ]
    }
   ],
   "source": [
    "library = {\n",
    "    \"1984\": {\"author\": \"Джордж Оруелл\", \"year\": 1949, \"pages\": 328},\n",
    "    \"Вій\": {\"author\": \"Микола Гоголь\", \"year\": 1835, \"pages\": 96},\n",
    "    \"Майстер і Маргарита\": {\"author\": \"Михайло Булгаков\", \"year\": 1967, \"pages\": 384},\n",
    "}\n",
    "\n",
    "book_name = input(\"Введіть назву книги: \")\n",
    "\n",
    "if book_name in library:\n",
    "    book_info = library[book_name]\n",
    "    print(f\"Автор: {book_info['author']}\\nРік видання: {book_info['year']}\\nКількість сторінок: {book_info['pages']}\")\n",
    "else:\n",
    "    print(\"Книги з такою назвою немає в бібліотеці.\")"
   ]
  },
  {
   "cell_type": "markdown",
   "metadata": {},
   "source": [
    "## Сумісна робота зі словниками і кортежами"
   ]
  },
  {
   "cell_type": "markdown",
   "metadata": {},
   "source": [
    "### Приклад 1"
   ]
  },
  {
   "cell_type": "markdown",
   "metadata": {},
   "source": [
    "Написати програму, яка веде облік студентів групи, забезпечуючи можливість зберігати ім'я і прізвище студента та його оцінки, і виводить середній бал по предметах."
   ]
  },
  {
   "cell_type": "code",
   "execution_count": 4,
   "metadata": {},
   "outputs": [
    {
     "name": "stdout",
     "output_type": "stream",
     "text": [
      "Enter the student's name: Daniil\n",
      "Enter the student's score (0-10): 10\n",
      "Enter the student's name: Vlad\n",
      "Enter the student's score (0-10): 5\n",
      "Enter the student's name: Thor\n",
      "Enter the student's score (0-10): 100\n",
      "Daniil : 10.0\n",
      "Vlad : 5.0\n"
     ]
    }
   ],
   "source": [
    "school_class = {}\n",
    "\n",
    "while True:\n",
    "    name = input(\"Enter the student's name: \")\n",
    "    if name == '':\n",
    "        break\n",
    "    \n",
    "    score = int(input(\"Enter the student's score (0-10): \"))\n",
    "    if score not in range(0, 11):\n",
    "\t    break\n",
    "    \n",
    "    if name in school_class:\n",
    "        school_class[name] += (score,)\n",
    "    else:\n",
    "        school_class[name] = (score,)\n",
    "        \n",
    "for name in sorted(school_class.keys()):\n",
    "    adding = 0\n",
    "    counter = 0\n",
    "    for score in school_class[name]:\n",
    "        adding += score\n",
    "        counter += 1\n",
    "    print(name, \":\", adding / counter)"
   ]
  },
  {
   "cell_type": "markdown",
   "metadata": {},
   "source": [
    "### Завдання 4"
   ]
  },
  {
   "cell_type": "markdown",
   "metadata": {},
   "source": [
    "Напишіть програму, яка створює словник, що містить інформацію про студентів, використовуючи вказані кортежі в якості значень. Кожен ключ -- це прізвище студента. Виведіть на екран інформацію про студента, введеного користувачем."
   ]
  },
  {
   "cell_type": "code",
   "execution_count": 5,
   "metadata": {},
   "outputs": [
    {
     "name": "stdout",
     "output_type": "stream",
     "text": [
      "Введіть прізвище студента: Терещенко\n",
      "Ім'я: Данііл\n",
      "Вік: 100\n",
      "Спеціальність: ПРБП\n"
     ]
    }
   ],
   "source": [
    "students = {\n",
    "    \"Терещенко\": (\"Данііл\", 100, \"ПРБП\"),\n",
    "    \"Барбір\": (\"Олена\", 99, \"ПРО\"),\n",
    "    \"Клименко\": (\"Тарас\", 98, \"Основи IoT\"),\n",
    "}\n",
    "\n",
    "surname = input(\"Введіть прізвище студента: \")\n",
    "\n",
    "if surname in students:\n",
    "    student_info = students[surname]\n",
    "    print(f\"Ім'я: {student_info[0]}\\nВік: {student_info[1]}\\nСпеціальність: {student_info[2]}\")\n",
    "else:\n",
    "    print(\"Студента з таким прізвищем немає.\")"
   ]
  },
  {
   "cell_type": "markdown",
   "metadata": {},
   "source": [
    "### Завдання 5"
   ]
  },
  {
   "cell_type": "markdown",
   "metadata": {},
   "source": [
    "Створіть словник, який містить інформацію про більше, ніж один номер телефону для кожного з контактів в телефонній книзі. Ключами будуть імена контактів, а значеннями - список їхніх номерів телефонів. Напишіть функцію, яка дозволяє додати новий номер телефону до списку номерів телефону певного контакту. Потім виведіть на екран список номерів телефонів для всіх контактів."
   ]
  },
  {
   "cell_type": "code",
   "execution_count": 8,
   "metadata": {},
   "outputs": [],
   "source": [
    "phonebook = {\n",
    "    \"Данііл\": [\"+380989970562\", \"+380666666666\"],\n",
    "    \"Владислав\": [\"+380980980473\", \"+380505060702\"],\n",
    "}"
   ]
  },
  {
   "cell_type": "code",
   "execution_count": null,
   "metadata": {},
   "outputs": [],
   "source": [
    "def add_phone_number(name, phone_number):\n",
    "    if name in phonebook:\n",
    "        phonebook[name].append(phone_number)\n",
    "    else:\n",
    "        phonebook[name] = [phone_number]"
   ]
  },
  {
   "cell_type": "code",
   "execution_count": 11,
   "metadata": {},
   "outputs": [],
   "source": [
    "add_phone_number(\"Олександр\", \"+380505678901\")"
   ]
  },
  {
   "cell_type": "code",
   "execution_count": 12,
   "metadata": {},
   "outputs": [
    {
     "name": "stdout",
     "output_type": "stream",
     "text": [
      "Данііл: +380989970562, +380666666666\n",
      "Владислав: +380980980473, +380505060702\n",
      "Олександр: +380505678901\n"
     ]
    }
   ],
   "source": [
    "\n",
    "for contact, numbers in phonebook.items():\n",
    "    print(f\"{contact}: {', '.join(numbers)}\")"
   ]
  },
  {
   "cell_type": "markdown",
   "metadata": {},
   "source": [
    "## Завдання для самостіної роботи\n",
    "\n",
    "1. Виконати завдання 1-5 наведені вище у цьому зошиті.\n",
    "\n",
    "1. Створити файл __lab_7_StudentLastName.py__ з написаним кодом. \n",
    "\n",
    "1. Закомітити файл у локальний репозиторій.\n",
    "\n",
    "1. Відправити (\"запушити\") поточну версію Git-проєкта у віддалений репозиторій на GitHub.\n",
    "\n",
    "1. Звіт має складатися з файлу (за основу взяти __цей Python-зошит__)  `lab_7_StudentLastName.ipynb`. (Можливі якісь додакові файли)"
   ]
  },
  {
   "cell_type": "markdown",
   "metadata": {},
   "source": [
    "## Контрольні запитання\n",
    "\n",
    "1. Що виведе наступний код? - (2, 3)\n",
    "\n",
    "```\n",
    "my_tuple = (1, 2, 3)\n",
    "print(my_tuple[1:])\n",
    "```\n",
    "\n",
    "2. Що виведе наступний код? - 4\n",
    "```\n",
    "my_dict = {'a': 1, 'b': 2, 'c': 3}\n",
    "print(my_dict.get('d', 4))\n",
    "```\n",
    "\n",
    "3. Що виведе наступний код? - 'tuple' object does not support item assignment\n",
    "```\n",
    "my_tuple = (1, 2, 3)\n",
    "my_tuple[0] = 4\n",
    "print(my_tuple)\n",
    "```\n",
    "\n",
    "4. Що виведе наступний код? - {'a': 1, 'b': 2, 'c': 3, 'd': 4}\n",
    "```\n",
    "my_dict = {'a': 1, 'b': 2, 'c': 3}\n",
    "my_dict.update({'d': 4})\n",
    "print(my_dict)\n",
    "```\n"
   ]
  },
  {
   "cell_type": "markdown",
   "metadata": {},
   "source": [
    "## References"
   ]
  },
  {
   "cell_type": "markdown",
   "metadata": {},
   "source": [
    "1. [Anaconda (Python distribution)](https://uk.wikipedia.org/wiki/Anaconda_(Python_distribution))\n",
    "2. [Conda](https://conda.io/en/latest/)\n",
    "3. [Pro Git Book](https://git-scm.com/book/en/v2)\n",
    "4. [OpenEDG Python Institute](https://pythoninstitute.org/)\n",
    "5. [Cisco. Networking Academy](https://www.netacad.com/)\n",
    "6. [Научно-издательская система Quarto](https://data-visualization-blog.netlify.app/posts/quarto/)"
   ]
  }
 ],
 "metadata": {
  "kernelspec": {
   "display_name": "Python 3 (ipykernel)",
   "language": "python",
   "name": "python3"
  },
  "language_info": {
   "codemirror_mode": {
    "name": "ipython",
    "version": 3
   },
   "file_extension": ".py",
   "mimetype": "text/x-python",
   "name": "python",
   "nbconvert_exporter": "python",
   "pygments_lexer": "ipython3",
   "version": "3.9.12"
  }
 },
 "nbformat": 4,
 "nbformat_minor": 4
}
