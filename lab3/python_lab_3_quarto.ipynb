{
 "cells": [
  {
   "cell_type": "markdown",
   "metadata": {},
   "source": [
    "---\n",
    "title: \"Лабораторна робота №3. Змінні. Базові операції вводу/виводу\"\n",
    "description:\n",
    "  Документ зроблено за допомогою [Quarto](https://quarto.org/)\n",
    "author: \"&copy; [<span style='color: blue;'>Daniil Tereshchenko </span>](https://github.com/whytereshchenko), 2023\"\n",
    "date: \"09.27.2023\"\n",
    "lang: ukr\n",
    "format:\n",
    "  html:\n",
    "    code-fold: true\n",
    "    toc: true # меню\n",
    "    toc_float: # спливаюче меню  \n",
    "      collapsed: true # авто\n",
    "      number_sections: true\n",
    "jupyter: python3\n",
    "---"
   ]
  },
  {
   "cell_type": "markdown",
   "metadata": {},
   "source": [
    "__Мета:__ _освоїти роботу зі змінними та операції вводу і виводу_"
   ]
  },
  {
   "cell_type": "markdown",
   "metadata": {},
   "source": [
    "::: callout-note\n",
    "## Примітка\n",
    "Перед виконанням лабораторної роботи необхідно опрацювати матеріал __Лекції 3__.\n",
    ":::"
   ]
  },
  {
   "cell_type": "markdown",
   "metadata": {},
   "source": [
    "::: callout-note\n",
    "## Примітка\n",
    "У лабораторній роботі використано матеріали [python institute.](https://pythoninstitute.org/pcep) \n",
    ":::"
   ]
  },
  {
   "cell_type": "markdown",
   "metadata": {
    "tags": []
   },
   "source": [
    "#### Що ви будете вміти?\n",
    "* оперувати змінними строкового, цілого типу та типу з плаваючою комою.\n",
    "* використовувати функцію `input()`.\n",
    "* використовувати функції конвертації типів `int()`, `float()`, `string()`."
   ]
  },
  {
   "cell_type": "markdown",
   "metadata": {},
   "source": [
    "## Робота зі змінними"
   ]
  },
  {
   "cell_type": "markdown",
   "metadata": {},
   "source": [
    "### Приклад\n",
    "\n",
    "Написати програму, яка вводить довжини катетів $a$ та $b$ прямокутного трикутника та обчислює його гіпотенузу $c$."
   ]
  },
  {
   "cell_type": "code",
   "execution_count": 1,
   "metadata": {},
   "outputs": [
    {
     "name": "stdout",
     "output_type": "stream",
     "text": [
      "c = 5.0\n"
     ]
    }
   ],
   "source": [
    "a = 3.0\n",
    "b = 4.0\n",
    "c = (a ** 2 + b ** 2) ** 0.5\n",
    "print(\"c =\", c)"
   ]
  },
  {
   "cell_type": "markdown",
   "metadata": {},
   "source": [
    "### Завдання № 1\n",
    "\n",
    "Написати програму, яка обчислює значення функції Гауса: \n",
    "$$f(x) = \\frac{1}{\\sigma \\sqrt{2 \\pi}} e^{-\\frac{(x-\\mu)^2}{2\\sigma^2}}$$"
   ]
  },
  {
   "cell_type": "code",
   "execution_count": 39,
   "metadata": {},
   "outputs": [
    {
     "name": "stdout",
     "output_type": "stream",
     "text": [
      "0.24204463005733307\n"
     ]
    }
   ],
   "source": [
    "pi, exp, x, m, gamma = 3.14, 2.718, 2, 1, 1\n",
    "\n",
    "y = (1/ (gamma * (2*pi)**(1/2))) * exp ** (-1 * (((x - m)**2)/(2* gamma ** 2)))\n",
    "\n",
    "print(y)"
   ]
  },
  {
   "cell_type": "markdown",
   "metadata": {},
   "source": [
    "###  Завдання № 2"
   ]
  },
  {
   "cell_type": "markdown",
   "metadata": {},
   "source": [
    "Ось невелика розповідь:\n",
    "\n",
    "Якось Джон (John) мав три яблука, Мері (Mary) мала п'ять яблук, а Адам (Adam) мав шість яблук. Усі вони були дуже щасливі та жили довго. Кінець історії.\n",
    "\n",
    "Ваше завдання:\n",
    "\n",
    "* створіть змінні: `john`, `mary`, і `adam`;\n",
    "\n",
    "* надайте значення змінним. Значення повинні дорівнювати кількості фруктів, якими володіють Джон, Мері, і Адам відповідно;\n",
    "\n",
    "* зберігши числа в змінних, виведіть змінні в один рядок і розділіть їх комами;\n",
    "\n",
    "* тепер створіть нову змінну з ім'ям `totalApple`, що дорівнює сумі трьох попередніх змінних;\n",
    "\n",
    "* вивести значення, збережене в `totalapples`, в консоль;\n",
    "\n",
    "* надрукувати рядок та ціле число разом в одному рядку, наприклад, \"Загальна кількість яблук:\" та `total_apples`|."
   ]
  },
  {
   "cell_type": "code",
   "execution_count": 34,
   "metadata": {},
   "outputs": [
    {
     "name": "stdout",
     "output_type": "stream",
     "text": [
      "3,5,6\n",
      "Загальна кількість яблук: 14\n"
     ]
    }
   ],
   "source": [
    "john = 3\n",
    "mary = 5\n",
    "adam = 6\n",
    "\n",
    "# Виведення кількості яблук кожної людини, розділені комами\n",
    "print(john, mary, adam, sep=\",\")\n",
    "\n",
    "# Створення нової змінної, яка підсумовує кількість яблук\n",
    "total_apples = john + mary + adam\n",
    "\n",
    "# Виведення загальної кількості яблук\n",
    "print(\"Загальна кількість яблук:\", total_apples)"
   ]
  },
  {
   "cell_type": "markdown",
   "metadata": {},
   "source": [
    "### Завдання № 3"
   ]
  },
  {
   "cell_type": "markdown",
   "metadata": {},
   "source": [
    "Милі та кілометри – це одиниці довжини або відстані.\n",
    "\n",
    "Враховуючи, що 1 миля дорівнює приблизно 1.61 кілометрам, напишіть програму, щоб вона перетворила:\n",
    "\n",
    "* милі у кілометри;\n",
    "\n",
    "* кілометри на милі.\n",
    "\n",
    "Не змінюйте нічого в існуючому коді. Напишіть свій код у місцях, вказаних ###. Протестуйте вашу програму з даними, які надано у вихідному коді.\n",
    "\n",
    "Зверніть особливу увагу на те, що відбувається всередині функції `print()`. Проаналізуйте, як ми надаємо кілька аргументів функції та як ми виводимо очікувані дані.\n",
    "\n",
    "Зауважте, що деякі аргументи всередині функції `print()` є рядками (наприклад, `\"miles is\"`, тоді як деякі інші є змінними (наприклад, `miles`)."
   ]
  },
  {
   "cell_type": "code",
   "execution_count": 4,
   "metadata": {},
   "outputs": [
    {
     "name": "stdout",
     "output_type": "stream",
     "text": [
      "7.38 miles is 11.88 kilometers\n",
      "12.25 kilometers is 7.61 miles\n"
     ]
    }
   ],
   "source": [
    "kilometers = 12.25\n",
    "miles = 7.38\n",
    "\n",
    "miles_to_kilometers = miles * 1.61\n",
    "kilometers_to_miles = kilometers / 1.61\n",
    "\n",
    "print(miles, \"miles is\", round(miles_to_kilometers, 2), \"kilometers\")\n",
    "print(kilometers, \"kilometers is\", round(kilometers_to_miles, 2), \"miles\")"
   ]
  },
  {
   "cell_type": "markdown",
   "metadata": {},
   "source": [
    "Очикуваний вивод:\n",
    "\n",
    "`7.38 miles is 11.88 kilometers`\n",
    "\n",
    "`12.25 kilometers is 7.61 miles`"
   ]
  },
  {
   "cell_type": "markdown",
   "metadata": {},
   "source": [
    "### Завдання № 4"
   ]
  },
  {
   "cell_type": "markdown",
   "metadata": {},
   "source": [
    "Подивіться код у редакторі: він читає \"плаваюче\" значення, поміщає його у змінну з ім'ям `x`, і друкує значення змінної з ім'ям `y`. Ваше завдання - завершити код, щоб оцінити такий вираз:\n",
    "\n",
    "$$3x^3 - 2x^2 + 3^x - 1$$\n",
    "\n",
    "Результат має бути присвоєний `y`."
   ]
  },
  {
   "cell_type": "code",
   "execution_count": 22,
   "metadata": {},
   "outputs": [
    {
     "name": "stdout",
     "output_type": "stream",
     "text": [
      "y = -5.666666666666667\n"
     ]
    }
   ],
   "source": [
    "x =  -1\n",
    "x = float(x)\n",
    "y = (3* x**3) - (2* x**2) + (3 ** x) - 1\n",
    "print(\"y =\", y)"
   ]
  },
  {
   "cell_type": "markdown",
   "metadata": {},
   "source": [
    "__Тестові данні__"
   ]
  },
  {
   "cell_type": "markdown",
   "metadata": {},
   "source": [
    "Приклад вводу\n",
    "\n",
    "`x = 0`\n",
    "\n",
    "`x = 1`\n",
    "\n",
    "`x = -1`"
   ]
  },
  {
   "cell_type": "markdown",
   "metadata": {},
   "source": [
    "Приклад виводу\n",
    "\n",
    "`y = -1.0`\n",
    "\n",
    "`y = 3.0`\n",
    "\n",
    "`y = -9.0`"
   ]
  },
  {
   "cell_type": "markdown",
   "metadata": {},
   "source": [
    "### Завдання № 5 "
   ]
  },
  {
   "cell_type": "markdown",
   "metadata": {},
   "source": [
    "Код редактора містить коментарі. Спробуйте покращити його: додайте або видаліть коментарі там, де ви вважаєте це доречним (так, іноді видалення коментаря може зробити код більш читабельним) і змініть імена змінних там, де, на вашу думку, це покращить розуміння коду."
   ]
  },
  {
   "cell_type": "code",
   "execution_count": 32,
   "metadata": {},
   "outputs": [
    {
     "name": "stdout",
     "output_type": "stream",
     "text": [
      "Seconds in 2 hours: 7200\n"
     ]
    }
   ],
   "source": [
    "# this program computes the number of seconds in a given number of hours\n",
    "\n",
    "a = 2 # number of hours\n",
    "seconds = 3600 # number of seconds in 1 hour\n",
    "\n",
    "print(\"Seconds in\", a,\"hours:\", a * seconds) # printing the number of seconds in a given number of hours\n",
    "\n",
    "#TODO print \"Goodbye\""
   ]
  },
  {
   "cell_type": "markdown",
   "metadata": {},
   "source": [
    "### Завдання № 6 "
   ]
  },
  {
   "cell_type": "markdown",
   "metadata": {},
   "source": [
    "Ваше завдання – завершити код, щоб отримати результати чотирьох основних арифметичних операцій.\n",
    "\n",
    "Результати мають бути виведені у консолі.\n",
    "\n",
    "Можливо, ви не зможете захистити код від користувача, який хоче ділити на нуль. Пізніше ми взнаємо, як це зробити."
   ]
  },
  {
   "cell_type": "code",
   "execution_count": 33,
   "metadata": {},
   "outputs": [
    {
     "name": "stdout",
     "output_type": "stream",
     "text": [
      "Enter a float value for 'a': 2\n",
      "Enter a float value for 'b': 4\n",
      "Addition: a + b = 6.0\n",
      "Subtraction: a - b = -2.0\n",
      "Multiplication: a * b = 8.0\n",
      "Division: a / b = 0.5\n",
      "\n",
      "That's all, folks!\n"
     ]
    }
   ],
   "source": [
    "# input a float value for variable a here\n",
    "a = float(input(\"Enter a float value for 'a': \"))\n",
    "# input a float value for variable b here\n",
    "b = float(input(\"Enter a float value for 'b': \"))\n",
    "\n",
    "# output the result of addition here\n",
    "print(\"Addition: a + b =\", a + b)\n",
    "# output the result of subtraction here\n",
    "print(\"Subtraction: a - b =\", a - b)\n",
    "# output the result of multiplication here\n",
    "print(\"Multiplication: a * b =\", a * b)\n",
    "# output the result of division here        just check if its not null\n",
    "print(\"Division: a / b =\", a / b)\n",
    "\n",
    "print(\"\\nThat's all, folks!\")"
   ]
  },
  {
   "cell_type": "markdown",
   "metadata": {},
   "source": [
    "### Завдання № 7 "
   ]
  },
  {
   "cell_type": "markdown",
   "metadata": {},
   "source": [
    "Ваше завдання -- завершити код, щоб оцінити такий вираз:\n",
    "$$\\frac{1}{x + \\frac{1}{x + \\frac{1}{x + \\frac{1}{x + \\frac{1}{x}}}}}$$\n",
    "\n",
    "\n",
    "Результат має бути присвоєний `y`.\n",
    "\n",
    "Ви можете використовувати додаткові змінні для зменшення виразу (але це не обов'язково). Ретельно тестуйте свій код."
   ]
  },
  {
   "cell_type": "code",
   "execution_count": 50,
   "metadata": {},
   "outputs": [
    {
     "name": "stdout",
     "output_type": "stream",
     "text": [
      "Enter value for x: 10\n",
      "y = 0.09901951360184563\n"
     ]
    }
   ],
   "source": [
    "x = float(input(\"Enter value for x: \"))\n",
    "\n",
    "y= 1 / (x + (1 / (x + (1 / (x + (1 / (x + (1 / x))))))))\n",
    "\n",
    "print(\"y =\", y)"
   ]
  },
  {
   "cell_type": "markdown",
   "metadata": {},
   "source": [
    "__Тестові дані__\n",
    "\n",
    "`x = 1`\n",
    "\n",
    "`y = 0.6000000000000001`\n",
    "\n",
    "`x = 10`\n",
    "\n",
    "`y = 0.09901951266867294`\n",
    "\n",
    "`x = 100`\n",
    "\n",
    "`y = 0.009999000199950014`\n",
    "\n",
    "`x = -5`\n",
    "\n",
    "`y = -0.19258202567760344`"
   ]
  },
  {
   "cell_type": "markdown",
   "metadata": {},
   "source": [
    "### Завдання № 8"
   ]
  },
  {
   "cell_type": "markdown",
   "metadata": {},
   "source": [
    "Ваше завдання - підготувати простий код, здатний порахувати час закінчення періоду часу, вираженого в кількості хвилин (воно може бути як завгодно великим). Час початку вказується у вигляді пари годин (0..23) та хвилин (0..59). Результат повинен бути надрукований на консолі.\n",
    "\n",
    "Наприклад, якщо подія починається о __12:17__ і триває __59__ хвилин, вона закінчується о __13:16__.\n",
    "\n",
    "Не турбуйтеся про будь-які недоліки у вашому коді –- це нормально, якщо він приймає неприпустимий час -– найважливіше, що код видає дійсні результати для правильних вхідних даних.\n",
    "\n",
    "Ретельно перевірте код. Підказка: використання оператора `%` може бути ключем до успіху."
   ]
  },
  {
   "cell_type": "code",
   "execution_count": 51,
   "metadata": {},
   "outputs": [
    {
     "name": "stdout",
     "output_type": "stream",
     "text": [
      "Starting time (hours): 12\n",
      "Starting time (minutes): 17\n",
      "Event duration (minutes): 59\n",
      "13:16\n"
     ]
    }
   ],
   "source": [
    "hour = int(input(\"Starting time (hours): \"))\n",
    "mins = int(input(\"Starting time (minutes): \"))\n",
    "dura = int(input(\"Event duration (minutes): \"))\n",
    "\n",
    "end_mins = mins + dura\n",
    "\n",
    "hour += end_mins // 60\n",
    "end_mins = end_mins % 60\n",
    "\n",
    "hour = hour % 24\n",
    "\n",
    "print(hour, \":\", end_mins, sep=\"\")"
   ]
  },
  {
   "cell_type": "markdown",
   "metadata": {},
   "source": [
    "__Тестові дані__\n",
    "\n",
    "Приклад вводу:\n",
    "\n",
    "`12`\n",
    "\n",
    "`17`\n",
    "\n",
    "`59`"
   ]
  },
  {
   "cell_type": "markdown",
   "metadata": {},
   "source": [
    "Очікуваний результат: `13:16`"
   ]
  },
  {
   "cell_type": "markdown",
   "metadata": {},
   "source": [
    "Приклад вводу:\n",
    "\n",
    "`23`\n",
    "\n",
    "`58`\n",
    "\n",
    "`642`"
   ]
  },
  {
   "cell_type": "markdown",
   "metadata": {},
   "source": [
    "Очікуваний результат: `10:40`"
   ]
  },
  {
   "cell_type": "markdown",
   "metadata": {},
   "source": [
    "Приклад вводу:\n",
    "\n",
    "`0`\n",
    "\n",
    "`1`\n",
    "\n",
    "`2939`"
   ]
  },
  {
   "cell_type": "markdown",
   "metadata": {},
   "source": [
    "Очікуваний результат: `1:0`"
   ]
  },
  {
   "cell_type": "markdown",
   "metadata": {},
   "source": [
    "## Завдання для самостіної роботи\n",
    "\n",
    "1. Виконати завдання 1-8, наведені вище у цьому зошиті.\n",
    "\n",
    "1. Створити файл __lab_3_StudentLastName.py__ з написаним кодом. \n",
    "\n",
    "1. Закомітити файл у локальний репозиторій.\n",
    "\n",
    "1. Відправити поточну версію Git-проєкта у віддалений репозиторій на GitHub.\n",
    "\n",
    "1. Звіт має складатися з файлу (за основу взяти __цей Python-зошит__)  `lab_3_StudentLastName.ipynb`. (Можливі якісь додакові файли)"
   ]
  },
  {
   "attachments": {
    "1360c658-010b-4de1-a472-146e2538d7fa.png": {
     "image/png": "[encoded data removed]"
    },
    "60241ea3-0668-4101-b53a-ded32d40f1be.png": {
     "image/png": "[encoded data removed]"
    }
   },
   "cell_type": "markdown",
   "metadata": {},
   "source": [
    "## Контрольні запитання\n",
    "\n",
    "1. Який вивод наступного фрагмента?\n",
    "![image.png](attachment:1360c658-010b-4de1-a472-146e2538d7fa.png)\n",
    "- 55 (виводить кількість пʼятірок, яку ввід користувач)\n",
    "\n",
    "1. Який очікуваний результат наступного фрагмента?\n",
    "![image.png](attachment:60241ea3-0668-4101-b53a-ded32d40f1be.png)\n",
    "- int"
   ]
  },
  {
   "cell_type": "markdown",
   "metadata": {},
   "source": [
    "## References"
   ]
  },
  {
   "cell_type": "markdown",
   "metadata": {},
   "source": [
    "1. [Anaconda (Python distribution)](https://uk.wikipedia.org/wiki/Anaconda_(Python_distribution))\n",
    "2. [Conda](https://conda.io/en/latest/)\n",
    "3. [Pro Git Book](https://git-scm.com/book/en/v2)\n",
    "4. [OpenEDG Python Institute](https://pythoninstitute.org/)\n",
    "5. [Cisco. Networking Academy](https://www.netacad.com/)\n",
    "6. [Научно-издательская система Quarto](https://data-visualization-blog.netlify.app/posts/quarto/)"
   ]
  }
 ],
 "metadata": {
  "kernelspec": {
   "display_name": "Python 3 (ipykernel)",
   "language": "python",
   "name": "python3"
  },
  "language_info": {
   "codemirror_mode": {
    "name": "ipython",
    "version": 3
   },
   "file_extension": ".py",
   "mimetype": "text/x-python",
   "name": "python",
   "nbconvert_exporter": "python",
   "pygments_lexer": "ipython3",
   "version": "3.9.12"
  }
 },
 "nbformat": 4,
 "nbformat_minor": 4
}
