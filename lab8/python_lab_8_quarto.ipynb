{
 "cells": [
  {
   "cell_type": "markdown",
   "metadata": {},
   "source": [
    "---\n",
    "title: \"Лабораторна робота №8. Модулі, пакети та pip\"\n",
    "description:\n",
    "  Документ зроблено в [Quarto](https://quarto.org/)\n",
    "author: \"&copy; [<span style='color: blue;'>Daniil Tereshchenko </span>](https://github.com/whytereshchenko), 2023\"\n",
    "date: \"11.20.2023\"\n",
    "lang: ukr\n",
    "format:\n",
    "  html:\n",
    "    code-fold: true\n",
    "    toc: true # меню\n",
    "    toc_float: # спливаюче меню  \n",
    "      collapsed: true # авто\n",
    "      number_sections: true\n",
    "jupyter: python3\n",
    "---"
   ]
  },
  {
   "cell_type": "markdown",
   "metadata": {},
   "source": [
    "__Мета:__ _навчитися імпортувати, користуватися, створювати модулі та пакети. Навчитися користуватися \"сирною крамницею\" PyPi та менеджером пакетів `pip`_"
   ]
  },
  {
   "cell_type": "markdown",
   "metadata": {},
   "source": [
    "::: callout-note\n",
    "## Примітка\n",
    "Попередньо потрібно опрацювати лекцію 9.\n",
    ":::"
   ]
  },
  {
   "cell_type": "markdown",
   "metadata": {},
   "source": [
    "::: callout-note\n",
    "## Примітка\n",
    "У лабораторній роботі використано матеріали [python institute.](https://pythoninstitute.org/pcep) \n",
    ":::"
   ]
  },
  {
   "cell_type": "markdown",
   "metadata": {
    "tags": []
   },
   "source": [
    "## Що ви будете вміти?\n",
    "* створювати та використовувати модулі Python;\n",
    "* створювати та використовувати пакети Python;\n",
    "* використовувати PIP (Python Installation Package) для встановлення та видалення готових до використання пакетів з PyPi."
   ]
  },
  {
   "cell_type": "markdown",
   "metadata": {},
   "source": [
    "## Створення модуля"
   ]
  },
  {
   "cell_type": "markdown",
   "metadata": {},
   "source": [
    "### Завдання 1\n",
    "\n",
    "Створити модуль `module.py` та файл `main.py`, структура яких описана у лекції 9, повторишви кроки 1-10. "
   ]
  },
  {
   "cell_type": "code",
   "execution_count": 6,
   "metadata": {},
   "outputs": [
    {
     "data": {
      "text/plain": [
       "'Файл module.py '"
      ]
     },
     "execution_count": 6,
     "metadata": {},
     "output_type": "execute_result"
    }
   ],
   "source": [
    "# Тут має бути Ваш код\n",
    "'''Файл module.py '''"
   ]
  },
  {
   "cell_type": "code",
   "execution_count": 7,
   "metadata": {},
   "outputs": [
    {
     "data": {
      "text/plain": [
       "'Файл main.py '"
      ]
     },
     "execution_count": 7,
     "metadata": {},
     "output_type": "execute_result"
    }
   ],
   "source": [
    "# Тут має бути Ваш код\n",
    "'''Файл main.py '''"
   ]
  },
  {
   "cell_type": "markdown",
   "metadata": {},
   "source": [
    "## Створення пакета"
   ]
  },
  {
   "cell_type": "markdown",
   "metadata": {},
   "source": [
    "### Завдання 2\n",
    "\n",
    "Створити пакет `extra`, структура яких описана у лекції 9, повторишви кроки 1-7, завантаживши потрібні файли за наведеними нижче посиланнями:  \n",
    "\n",
    "[Modules and Packages ZIP file.zip](python_lab_8_quarto_files\\Modules and Packages ZIP file.zip)\n",
    "\n",
    "[Extrapack ZIP file.zip](python_lab_8_quarto_files\\Extrapack ZIP file.zip)\n",
    "\n"
   ]
  },
  {
   "cell_type": "code",
   "execution_count": 8,
   "metadata": {},
   "outputs": [
    {
     "data": {
      "text/plain": [
       "'Файл main2.py '"
      ]
     },
     "execution_count": 8,
     "metadata": {},
     "output_type": "execute_result"
    }
   ],
   "source": [
    "# Тут має бути Ваш код\n",
    "'''Файл main2.py '''"
   ]
  },
  {
   "cell_type": "markdown",
   "metadata": {},
   "source": [
    "## Робота з менеджером пакетів `pip` "
   ]
  },
  {
   "cell_type": "markdown",
   "metadata": {},
   "source": [
    "Список основних команд `pip`:\n",
    "\n",
    "* `pip help operation` – показує короткий опис pip;\n",
    "* `pip list` – показує список встановлених пакетів;\n",
    "* `pip show package_name` – показує інформацію про package_name, включаючи залежність пакета;\n",
    "* `pip search anystring` – виконує пошук у каталогах PyPI, щоб знайти пакети, імена яких містять anystring;\n",
    "* `pip install name` – встановлює name у масштабі всієї системи (очікуйте проблем, якщо у Вас немає прав адміністратора);\n",
    "* `pip install` --user name – встановлює name лише для Вас; жоден інший користувач платформи не зможе його використовувати;\n",
    "* `pip install -U name` – оновлює раніше встановлений пакет;\n",
    "* `pip uninstall name` – видаляє встановлений раніше пакет."
   ]
  },
  {
   "cell_type": "markdown",
   "metadata": {},
   "source": [
    "### Завдання 3\n",
    "За допомогою менеджера пакетів `pip`: \n",
    "\n",
    "* вивести перелік встановлених на Вашому комп'ютері пакетів\n",
    "* знайти і встановити пакет `pygame`\n",
    "* вивести інформацію про `pygame`\n",
    "* запустити код, наведений нижче\n",
    "* деінсталювати пакет `pygame`"
   ]
  },
  {
   "cell_type": "code",
   "execution_count": null,
   "metadata": {},
   "outputs": [
    {
     "name": "stdout",
     "output_type": "stream",
     "text": [
      "ERROR: unknown command \"listt\" - maybe you meant \"list\"\n",
      "Note: you may need to restart the kernel to use updated packages.\n"
     ]
    }
   ],
   "source": [
    "pip list"
   ]
  },
  {
   "cell_type": "code",
   "execution_count": 1,
   "metadata": {},
   "outputs": [
    {
     "name": "stdout",
     "output_type": "stream",
     "text": [
      "Collecting pygame\n",
      "  Downloading pygame-2.5.2-cp39-cp39-macosx_10_9_x86_64.whl (12.8 MB)\n",
      "\u001b[K     |████████████████████████████████| 12.8 MB 1.5 MB/s eta 0:00:01\n",
      "\u001b[?25hInstalling collected packages: pygame\n",
      "Successfully installed pygame-2.5.2\n",
      "Note: you may need to restart the kernel to use updated packages.\n"
     ]
    }
   ],
   "source": [
    "pip install pygame"
   ]
  },
  {
   "cell_type": "code",
   "execution_count": 3,
   "metadata": {},
   "outputs": [
    {
     "name": "stdout",
     "output_type": "stream",
     "text": [
      "Name: pygame\n",
      "Version: 2.5.2\n",
      "Summary: Python Game Development\n",
      "Home-page: https://www.pygame.org\n",
      "Author: A community project.\n",
      "Author-email: pygame@pygame.org\n",
      "License: LGPL\n",
      "Location: /Users/whytereschenko/opt/anaconda3/lib/python3.9/site-packages\n",
      "Requires: \n",
      "Required-by: \n",
      "Note: you may need to restart the kernel to use updated packages.\n"
     ]
    }
   ],
   "source": [
    "pip show pygame"
   ]
  },
  {
   "cell_type": "code",
   "execution_count": 1,
   "metadata": {},
   "outputs": [
    {
     "name": "stdout",
     "output_type": "stream",
     "text": [
      "pygame 2.5.2 (SDL 2.28.3, Python 3.9.12)\n",
      "Hello from the pygame community. https://www.pygame.org/contribute.html\n"
     ]
    }
   ],
   "source": [
    "import pygame\n",
    "\n",
    "run = True\n",
    "width = 400\n",
    "height = 100\n",
    "pygame.init()\n",
    "screen = pygame.display.set_mode((width, height))\n",
    "font = pygame.font.SysFont(None, 48)\n",
    "text = font.render(\"Welcome to pygame\", True, (255, 255, 255))\n",
    "screen.blit(text, ((width - text.get_width()) // 2, (height - text.get_height()) // 2))\n",
    "pygame.display.flip()\n",
    "while run:\n",
    "    for event in pygame.event.get():\n",
    "        if event.type == pygame.QUIT\\\n",
    "        or event.type == pygame.MOUSEBUTTONUP\\\n",
    "        or event.type == pygame.KEYUP:\n",
    "            run = False"
   ]
  },
  {
   "cell_type": "code",
   "execution_count": null,
   "metadata": {},
   "outputs": [],
   "source": [
    "pip uninstall pygame"
   ]
  },
  {
   "cell_type": "markdown",
   "metadata": {},
   "source": [
    "## Контрольні запитання\n",
    "\n",
    "1. Ви хочете заборонити користувачеві модуля запускати ваш код як звичайний скрипт. Як досягти такого ефекту? Написати код."
   ]
  },
  {
   "cell_type": "code",
   "execution_count": 3,
   "metadata": {},
   "outputs": [
    {
     "name": "stdout",
     "output_type": "stream",
     "text": [
      "Цей модуль не призначений для прямого запуску\n"
     ]
    }
   ],
   "source": [
    "def main():\n",
    "    pass\n",
    "\n",
    "if __name__ == \"__main__\":\n",
    "    print(\"Цей модуль не призначений для прямого запуску\")"
   ]
  },
  {
   "cell_type": "markdown",
   "metadata": {},
   "source": [
    "2. Деякі додаткові та необхідні пакети зберігаються в каталозі D:\\Python\\Project\\Modules. Напишіть код, який забезпечує перегляд каталогу Python для пошуку всіх модулів. Написати код."
   ]
  },
  {
   "cell_type": "code",
   "execution_count": 5,
   "metadata": {},
   "outputs": [],
   "source": [
    "import sys\n",
    "import os\n",
    "\n",
    "modules_path = \"D:\\\\Python\\\\Project\\\\Modules\"\n",
    "sys.path.append(modules_path)\n",
    "\n",
    "for root, dirs, files in os.walk(modules_path):\n",
    "    for file in files:\n",
    "        if file.endswith('.py'):\n",
    "            print(file)"
   ]
  },
  {
   "cell_type": "markdown",
   "metadata": {},
   "source": [
    "3. Каталог, згаданий у попередній вправі, містить піддерево наступної структури:\n",
    "![image.png](attachment:86e1a674-a8b2-42f0-b244-17afaea5fbbf.png)  \n",
    "\n",
    "Припускаючи, що `D:\\Python\\Project\\Modules` був успішно доданий до списку `sys.path`, напишіть директиву імпорту, що дозволяє використовувати всі сутності з `mymodule`.\n"
   ]
  },
  {
   "cell_type": "code",
   "execution_count": null,
   "metadata": {},
   "outputs": [],
   "source": [
    "import mymodule"
   ]
  },
  {
   "cell_type": "markdown",
   "metadata": {},
   "source": [
    "## References"
   ]
  },
  {
   "cell_type": "markdown",
   "metadata": {},
   "source": [
    "1. [Anaconda (Python distribution)](https://uk.wikipedia.org/wiki/Anaconda_(Python_distribution))\n",
    "1. [Conda](https://conda.io/en/latest/)\n",
    "1. [Pro Git Book](https://git-scm.com/book/en/v2)\n",
    "1. [OpenEDG Python Institute](https://pythoninstitute.org/)\n",
    "1. [Cisco. Networking Academy](https://www.netacad.com/)\n",
    "1. [Научно-издательская система Quarto](https://data-visualization-blog.netlify.app/posts/quarto/)\n",
    "1. [Modules](https://docs.python.org/3/tutorial/modules.html)\n",
    "1. [The Python Standard Library](https://docs.python.org/3/library/index.html)\n",
    "1. [Стандартні модулі Python](https://docs.python.org/3/py-modindex.html)\n",
    "1. [Packaging Working Group](https://wiki.python.org/psf/PackagingWG)\n",
    "1. [Веб-сайт PyPI](https://pypi.org/)"
   ]
  }
 ],
 "metadata": {
  "kernelspec": {
   "display_name": "Python 3 (ipykernel)",
   "language": "python",
   "name": "python3"
  },
  "language_info": {
   "codemirror_mode": {
    "name": "ipython",
    "version": 3
   },
   "file_extension": ".py",
   "mimetype": "text/x-python",
   "name": "python",
   "nbconvert_exporter": "python",
   "pygments_lexer": "ipython3",
   "version": "3.9.12"
  }
 },
 "nbformat": 4,
 "nbformat_minor": 4
}
